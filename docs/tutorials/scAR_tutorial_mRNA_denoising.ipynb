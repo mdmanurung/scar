{
 "cells": [
  {
   "cell_type": "markdown",
   "id": "292f4a7a-8578-4bda-9a15-186db1e448fe",
   "metadata": {},
   "source": [
    "# Denoising mRNA\n",
    "\n",
    "In this tutorial, we'll be walking through the steps to denoising mRNA counts in a species-mixing data.   \n",
    "\n",
    "In this experiment, an equal number of human HEK293T cells and mouse NIH3T3 cells were pooled and sequenced, transcripts from the other organism were unambiguously ambient contamination. The original dataset is downloaded from 10x genomics [dataset](https://www.10xgenomics.com/resources/datasets/20-k-1-1-mixture-of-human-hek-293-t-and-mouse-nih-3-t-3-cells-3-ht-v-3-1-3-1-high-6-1-0), and cell annotation file is available at  [scAR-reproducibility/data](https://github.com/CaibinSh/scAR-reproducibility/tree/main/data)\n",
    "\n",
    "<div class=\"alert alert-info\">\n",
    "\n",
    "Note\n",
    "\n",
    "You need to install [scar](https://scar-tutorials.readthedocs.io/en/latest/) to run this notebook on your own device. \n",
    "\n",
    "You can also run it on Colab [![Open In Colab](https://colab.research.google.com/assets/colab-badge.svg)](https://colab.research.google.com/github/Novartis/scAR/blob/main/docs/tutorials/scAR_tutorial_mRNA_denoising.ipynb)\n",
    "\n",
    "</div>"
   ]
  },
  {
   "cell_type": "code",
   "execution_count": null,
   "id": "5ec2e50c-d6fa-48e4-940e-9526cb1eef2e",
   "metadata": {},
   "outputs": [],
   "source": [
    "# Run this cell to install scar in Colab\n",
    "# Skip this cell if running on your own device\n",
    "\n",
    "%pip install scanpy\n",
    "%pip install git+https://github.com/Novartis/scAR.git\n",
    "%pip install matplotlib==3.1.3  # Specify this matplotlib version to avoid errors"
   ]
  },
  {
   "cell_type": "code",
   "execution_count": 1,
   "id": "51066fe9-3834-47f3-960f-0adc64f4f902",
   "metadata": {},
   "outputs": [],
   "source": [
    "import numpy as np\n",
    "import pandas as pd\n",
    "import matplotlib.pyplot as plt\n",
    "import seaborn as sns\n",
    "import scanpy as sc\n",
    "from scar import model\n",
    "\n",
    "import warnings\n",
    "warnings.simplefilter(\"ignore\")"
   ]
  },
  {
   "cell_type": "markdown",
   "id": "5faa5c04-205d-4b1b-a886-dfbb10dca129",
   "metadata": {
    "tags": []
   },
   "source": [
    "## Download data\n",
    "\n",
    "The raw and filtered count matrices can be downloaded from 10x Dataset."
   ]
  },
  {
   "cell_type": "markdown",
   "id": "aebfe3f1-44f4-4cb8-8d13-9d825ee2a8bf",
   "metadata": {},
   "source": [
    "### The raw data\n",
    "\n",
    "cellranger output: raw_feature_bc_matrix"
   ]
  },
  {
   "cell_type": "code",
   "execution_count": 2,
   "id": "47d51750-2960-4e44-b644-a50d4eea6922",
   "metadata": {},
   "outputs": [],
   "source": [
    "hgmm_20k_raw = sc.read_10x_h5(filename='20k_hgmm_3p_HT_nextgem_Chromium_X_raw_feature_bc_matrix.h5ad',\n",
    "                                 backup_url='https://cf.10xgenomics.com/samples/cell-exp/6.1.0/20k_hgmm_3p_HT_nextgem_Chromium_X/20k_hgmm_3p_HT_nextgem_Chromium_X_raw_feature_bc_matrix.h5');\n",
    "hgmm_20k_raw.var_names_make_unique();"
   ]
  },
  {
   "cell_type": "markdown",
   "id": "51d44e50-4045-433f-a9a9-7e4724c19a85",
   "metadata": {},
   "source": [
    "### The filtered data\n",
    "\n",
    "cellranger output: filtered_feature_bc_matrix"
   ]
  },
  {
   "cell_type": "code",
   "execution_count": 3,
   "id": "7f1e3592-2946-4f38-8c66-ba236de60fbe",
   "metadata": {},
   "outputs": [],
   "source": [
    "hgmm_20k = sc.read_10x_h5(filename='20k_hgmm_3p_HT_nextgem_Chromium_X_filtered_feature_bc_matrix.h5ad',\n",
    "                             backup_url='https://cf.10xgenomics.com/samples/cell-exp/6.1.0/20k_hgmm_3p_HT_nextgem_Chromium_X/20k_hgmm_3p_HT_nextgem_Chromium_X_filtered_feature_bc_matrix.h5');\n",
    "hgmm_20k.var_names_make_unique();"
   ]
  },
  {
   "cell_type": "markdown",
   "id": "2a92ec2b-52e6-4f1c-82ca-9c77e9c6a948",
   "metadata": {},
   "source": [
    "### Annotation and filtering"
   ]
  },
  {
   "cell_type": "markdown",
   "id": "4dddef4d-54b7-4db8-b45c-e34f600895aa",
   "metadata": {},
   "source": [
    "We annotated cells by their cell species and provided the annotation file"
   ]
  },
  {
   "cell_type": "code",
   "execution_count": 4,
   "id": "ee46bb40-8159-4515-823d-8280d3ddff62",
   "metadata": {},
   "outputs": [
    {
     "name": "stdout",
     "output_type": "stream",
     "text": [
      "fatal: destination path 'scAR-reproducibility' already exists and is not an empty directory.\n"
     ]
    }
   ],
   "source": [
    "!git clone https://github.com/CaibinSh/scAR-reproducibility.git\n",
    "\n",
    "hgmm_20k_anno = pd.read_csv('scAR-reproducibility/data/20k_hgmm_cell_annotation.csv', index_col=0) \n",
    "hgmm_20k.obs=hgmm_20k.obs.join(hgmm_20k_anno[['species']])"
   ]
  },
  {
   "cell_type": "markdown",
   "id": "2eaea46b-672f-43c9-bf59-ff705c883860",
   "metadata": {},
   "source": [
    "Gene and cell filtering"
   ]
  },
  {
   "cell_type": "code",
   "execution_count": 5,
   "id": "8955440c-3a7c-4901-9779-9b99059a46f2",
   "metadata": {},
   "outputs": [],
   "source": [
    "sc.pp.filter_genes(hgmm_20k, min_counts=200);\n",
    "sc.pp.filter_genes(hgmm_20k, max_counts=6000);\n",
    "sc.pp.filter_cells(hgmm_20k, min_genes=200);"
   ]
  },
  {
   "cell_type": "markdown",
   "id": "d8d21cbc-c57c-4123-9e23-a41d2fef24f2",
   "metadata": {},
   "source": [
    "Calculate number of human and mouse transcripts"
   ]
  },
  {
   "cell_type": "code",
   "execution_count": 6,
   "id": "ef07470c-0adc-49b7-8587-2d6f3749f631",
   "metadata": {},
   "outputs": [],
   "source": [
    "hgmm_20k.obs['human gene counts'] = hgmm_20k[:, hgmm_20k.var['genome']==\"GRCh38\"].X.sum(axis=1).A1\n",
    "hgmm_20k.obs['mouse gene counts'] = hgmm_20k[:, hgmm_20k.var['genome']==\"mm10\"].X.sum(axis=1).A1"
   ]
  },
  {
   "cell_type": "code",
   "execution_count": 7,
   "id": "9dda3863-1785-49a1-9cdd-0b11a3b072ad",
   "metadata": {},
   "outputs": [
    {
     "data": {
      "text/plain": [
       "AnnData object with n_obs × n_vars = 16292 × 16586\n",
       "    obs: 'species', 'n_genes', 'human gene counts', 'mouse gene counts'\n",
       "    var: 'gene_ids', 'feature_types', 'genome', 'n_counts'"
      ]
     },
     "execution_count": 7,
     "metadata": {},
     "output_type": "execute_result"
    }
   ],
   "source": [
    "hgmm_20k"
   ]
  },
  {
   "cell_type": "markdown",
   "id": "a3d6e0cd-0f20-4a5e-99eb-31ec746fedab",
   "metadata": {},
   "source": [
    "### Raw count matrix\n",
    "\n",
    "Get a dataframe of raw count as the input of `scar`"
   ]
  },
  {
   "cell_type": "code",
   "execution_count": 8,
   "id": "85d6b255-b7d1-49bb-9e22-344331de62c7",
   "metadata": {},
   "outputs": [
    {
     "data": {
      "text/html": [
       "<div>\n",
       "<style scoped>\n",
       "    .dataframe tbody tr th:only-of-type {\n",
       "        vertical-align: middle;\n",
       "    }\n",
       "\n",
       "    .dataframe tbody tr th {\n",
       "        vertical-align: top;\n",
       "    }\n",
       "\n",
       "    .dataframe thead th {\n",
       "        text-align: right;\n",
       "    }\n",
       "</style>\n",
       "<table border=\"1\" class=\"dataframe\">\n",
       "  <thead>\n",
       "    <tr style=\"text-align: right;\">\n",
       "      <th></th>\n",
       "      <th>GRCh38_AL627309.5</th>\n",
       "      <th>GRCh38_LINC01128</th>\n",
       "      <th>GRCh38_LINC00115</th>\n",
       "      <th>GRCh38_FAM41C</th>\n",
       "      <th>GRCh38_AL645608.2</th>\n",
       "      <th>GRCh38_LINC02593</th>\n",
       "      <th>GRCh38_SAMD11</th>\n",
       "      <th>GRCh38_KLHL17</th>\n",
       "      <th>GRCh38_AL645608.7</th>\n",
       "      <th>GRCh38_ISG15</th>\n",
       "      <th>...</th>\n",
       "      <th>mm10___Gm21887</th>\n",
       "      <th>mm10___Kdm5d</th>\n",
       "      <th>mm10___Eif2s3y</th>\n",
       "      <th>mm10___Uty</th>\n",
       "      <th>mm10___Ddx3y</th>\n",
       "      <th>mm10___AC133103.1</th>\n",
       "      <th>mm10___AC168977.1</th>\n",
       "      <th>mm10___CAAA01118383.1</th>\n",
       "      <th>mm10___Spry3</th>\n",
       "      <th>mm10___Tmlhe</th>\n",
       "    </tr>\n",
       "  </thead>\n",
       "  <tbody>\n",
       "    <tr>\n",
       "      <th>AAACCCAAGAGCCGAT-1</th>\n",
       "      <td>0.0</td>\n",
       "      <td>0.0</td>\n",
       "      <td>0.0</td>\n",
       "      <td>0.0</td>\n",
       "      <td>0.0</td>\n",
       "      <td>0.0</td>\n",
       "      <td>0.0</td>\n",
       "      <td>0.0</td>\n",
       "      <td>1.0</td>\n",
       "      <td>0.0</td>\n",
       "      <td>...</td>\n",
       "      <td>0.0</td>\n",
       "      <td>0.0</td>\n",
       "      <td>0.0</td>\n",
       "      <td>0.0</td>\n",
       "      <td>0.0</td>\n",
       "      <td>0.0</td>\n",
       "      <td>0.0</td>\n",
       "      <td>0.0</td>\n",
       "      <td>0.0</td>\n",
       "      <td>0.0</td>\n",
       "    </tr>\n",
       "    <tr>\n",
       "      <th>AAACCCAAGCGTTCCG-1</th>\n",
       "      <td>0.0</td>\n",
       "      <td>0.0</td>\n",
       "      <td>0.0</td>\n",
       "      <td>0.0</td>\n",
       "      <td>0.0</td>\n",
       "      <td>0.0</td>\n",
       "      <td>0.0</td>\n",
       "      <td>1.0</td>\n",
       "      <td>0.0</td>\n",
       "      <td>1.0</td>\n",
       "      <td>...</td>\n",
       "      <td>0.0</td>\n",
       "      <td>0.0</td>\n",
       "      <td>0.0</td>\n",
       "      <td>0.0</td>\n",
       "      <td>0.0</td>\n",
       "      <td>0.0</td>\n",
       "      <td>0.0</td>\n",
       "      <td>0.0</td>\n",
       "      <td>0.0</td>\n",
       "      <td>0.0</td>\n",
       "    </tr>\n",
       "    <tr>\n",
       "      <th>AAACCCAAGTGCGTCC-1</th>\n",
       "      <td>0.0</td>\n",
       "      <td>0.0</td>\n",
       "      <td>0.0</td>\n",
       "      <td>0.0</td>\n",
       "      <td>0.0</td>\n",
       "      <td>0.0</td>\n",
       "      <td>0.0</td>\n",
       "      <td>0.0</td>\n",
       "      <td>0.0</td>\n",
       "      <td>0.0</td>\n",
       "      <td>...</td>\n",
       "      <td>0.0</td>\n",
       "      <td>0.0</td>\n",
       "      <td>2.0</td>\n",
       "      <td>1.0</td>\n",
       "      <td>0.0</td>\n",
       "      <td>0.0</td>\n",
       "      <td>0.0</td>\n",
       "      <td>0.0</td>\n",
       "      <td>0.0</td>\n",
       "      <td>0.0</td>\n",
       "    </tr>\n",
       "    <tr>\n",
       "      <th>AAACCCACAAACTGCT-1</th>\n",
       "      <td>0.0</td>\n",
       "      <td>0.0</td>\n",
       "      <td>0.0</td>\n",
       "      <td>0.0</td>\n",
       "      <td>0.0</td>\n",
       "      <td>0.0</td>\n",
       "      <td>0.0</td>\n",
       "      <td>0.0</td>\n",
       "      <td>0.0</td>\n",
       "      <td>0.0</td>\n",
       "      <td>...</td>\n",
       "      <td>0.0</td>\n",
       "      <td>0.0</td>\n",
       "      <td>0.0</td>\n",
       "      <td>0.0</td>\n",
       "      <td>0.0</td>\n",
       "      <td>0.0</td>\n",
       "      <td>0.0</td>\n",
       "      <td>0.0</td>\n",
       "      <td>0.0</td>\n",
       "      <td>0.0</td>\n",
       "    </tr>\n",
       "    <tr>\n",
       "      <th>AAACCCACAATACCTG-1</th>\n",
       "      <td>0.0</td>\n",
       "      <td>0.0</td>\n",
       "      <td>0.0</td>\n",
       "      <td>0.0</td>\n",
       "      <td>0.0</td>\n",
       "      <td>0.0</td>\n",
       "      <td>0.0</td>\n",
       "      <td>1.0</td>\n",
       "      <td>0.0</td>\n",
       "      <td>0.0</td>\n",
       "      <td>...</td>\n",
       "      <td>0.0</td>\n",
       "      <td>0.0</td>\n",
       "      <td>0.0</td>\n",
       "      <td>0.0</td>\n",
       "      <td>0.0</td>\n",
       "      <td>0.0</td>\n",
       "      <td>0.0</td>\n",
       "      <td>0.0</td>\n",
       "      <td>0.0</td>\n",
       "      <td>0.0</td>\n",
       "    </tr>\n",
       "  </tbody>\n",
       "</table>\n",
       "<p>5 rows × 16586 columns</p>\n",
       "</div>"
      ],
      "text/plain": [
       "                    GRCh38_AL627309.5  GRCh38_LINC01128  GRCh38_LINC00115  \\\n",
       "AAACCCAAGAGCCGAT-1                0.0               0.0               0.0   \n",
       "AAACCCAAGCGTTCCG-1                0.0               0.0               0.0   \n",
       "AAACCCAAGTGCGTCC-1                0.0               0.0               0.0   \n",
       "AAACCCACAAACTGCT-1                0.0               0.0               0.0   \n",
       "AAACCCACAATACCTG-1                0.0               0.0               0.0   \n",
       "\n",
       "                    GRCh38_FAM41C  GRCh38_AL645608.2  GRCh38_LINC02593  \\\n",
       "AAACCCAAGAGCCGAT-1            0.0                0.0               0.0   \n",
       "AAACCCAAGCGTTCCG-1            0.0                0.0               0.0   \n",
       "AAACCCAAGTGCGTCC-1            0.0                0.0               0.0   \n",
       "AAACCCACAAACTGCT-1            0.0                0.0               0.0   \n",
       "AAACCCACAATACCTG-1            0.0                0.0               0.0   \n",
       "\n",
       "                    GRCh38_SAMD11  GRCh38_KLHL17  GRCh38_AL645608.7  \\\n",
       "AAACCCAAGAGCCGAT-1            0.0            0.0                1.0   \n",
       "AAACCCAAGCGTTCCG-1            0.0            1.0                0.0   \n",
       "AAACCCAAGTGCGTCC-1            0.0            0.0                0.0   \n",
       "AAACCCACAAACTGCT-1            0.0            0.0                0.0   \n",
       "AAACCCACAATACCTG-1            0.0            1.0                0.0   \n",
       "\n",
       "                    GRCh38_ISG15  ...  mm10___Gm21887  mm10___Kdm5d  \\\n",
       "AAACCCAAGAGCCGAT-1           0.0  ...             0.0           0.0   \n",
       "AAACCCAAGCGTTCCG-1           1.0  ...             0.0           0.0   \n",
       "AAACCCAAGTGCGTCC-1           0.0  ...             0.0           0.0   \n",
       "AAACCCACAAACTGCT-1           0.0  ...             0.0           0.0   \n",
       "AAACCCACAATACCTG-1           0.0  ...             0.0           0.0   \n",
       "\n",
       "                    mm10___Eif2s3y  mm10___Uty  mm10___Ddx3y  \\\n",
       "AAACCCAAGAGCCGAT-1             0.0         0.0           0.0   \n",
       "AAACCCAAGCGTTCCG-1             0.0         0.0           0.0   \n",
       "AAACCCAAGTGCGTCC-1             2.0         1.0           0.0   \n",
       "AAACCCACAAACTGCT-1             0.0         0.0           0.0   \n",
       "AAACCCACAATACCTG-1             0.0         0.0           0.0   \n",
       "\n",
       "                    mm10___AC133103.1  mm10___AC168977.1  \\\n",
       "AAACCCAAGAGCCGAT-1                0.0                0.0   \n",
       "AAACCCAAGCGTTCCG-1                0.0                0.0   \n",
       "AAACCCAAGTGCGTCC-1                0.0                0.0   \n",
       "AAACCCACAAACTGCT-1                0.0                0.0   \n",
       "AAACCCACAATACCTG-1                0.0                0.0   \n",
       "\n",
       "                    mm10___CAAA01118383.1  mm10___Spry3  mm10___Tmlhe  \n",
       "AAACCCAAGAGCCGAT-1                    0.0           0.0           0.0  \n",
       "AAACCCAAGCGTTCCG-1                    0.0           0.0           0.0  \n",
       "AAACCCAAGTGCGTCC-1                    0.0           0.0           0.0  \n",
       "AAACCCACAAACTGCT-1                    0.0           0.0           0.0  \n",
       "AAACCCACAATACCTG-1                    0.0           0.0           0.0  \n",
       "\n",
       "[5 rows x 16586 columns]"
      ]
     },
     "execution_count": 8,
     "metadata": {},
     "output_type": "execute_result"
    }
   ],
   "source": [
    "raw_counts = hgmm_20k.to_df()\n",
    "raw_counts.head()"
   ]
  },
  {
   "cell_type": "markdown",
   "id": "56555664-57f4-4304-9c5b-365da5e18089",
   "metadata": {},
   "source": [
    "## Estimate ambient profile"
   ]
  },
  {
   "cell_type": "markdown",
   "id": "5365f55d-a8b4-4f85-934d-e2944110a7d1",
   "metadata": {},
   "source": [
    "### Identify cell-free droplets\n",
    "\n",
    "We use a kneeplot to identify subpopulations of raw droplets, these include cell-containing, cell-free droplets and other droplets"
   ]
  },
  {
   "cell_type": "code",
   "execution_count": 9,
   "id": "2bfb7d2e-6c2a-45b8-8d73-fa4562386b55",
   "metadata": {},
   "outputs": [],
   "source": [
    "all_droplets = pd.DataFrame(hgmm_20k_raw.X.sum(axis=1), index = hgmm_20k_raw.obs_names, columns=['total_counts'])\n",
    "\n",
    "all_droplets['droplets'] = 'cell-free droplets'\n",
    "all_droplets['droplets'] = all_droplets['droplets'].mask(all_droplets['total_counts']>12, 'droplet II')\n",
    "all_droplets['droplets'] = all_droplets['droplets'].mask(all_droplets['total_counts']>40, 'droplet I')\n",
    "all_droplets['droplets'] = all_droplets['droplets'].mask(all_droplets.index.isin(hgmm_20k.obs_names), 'cells')\n",
    "all_droplets = all_droplets.sort_values(by='total_counts', ascending=False).reset_index().rename_axis(\"rank\").reset_index()\n",
    "all_droplets = all_droplets.loc[all_droplets['total_counts']>0]\n",
    "all_droplets = all_droplets.set_index('index').rename_axis('cells')"
   ]
  },
  {
   "cell_type": "markdown",
   "id": "bcef2539-a8e8-4226-ab13-9aa47ac7d3cb",
   "metadata": {},
   "source": [
    "<div class=\"alert alert-info\">\n",
    "\n",
    "Note\n",
    "\n",
    "The thresholds (12 and 40) are experiment-specific. We currently manually determine them by examing the following kneeplot. \n",
    "\n",
    "</div>"
   ]
  },
  {
   "cell_type": "code",
   "execution_count": 10,
   "id": "2d74bdf4-9b20-4823-9c52-22f4e1dd9ff0",
   "metadata": {},
   "outputs": [
    {
     "data": {
      "image/png": "[encoded data removed]",
      "text/plain": [
       "<Figure size 450x300 with 1 Axes>"
      ]
     },
     "metadata": {
      "needs_background": "light"
     },
     "output_type": "display_data"
    }
   ],
   "source": [
    "plt.figure(figsize=(3, 2), dpi=150)\n",
    "\n",
    "ax = sns.lineplot(data = all_droplets,\n",
    "                  x='rank',\n",
    "                  y='total_counts',\n",
    "                  hue='droplets',\n",
    "                  hue_order=['cells', 'droplet I', 'droplet II', 'cell-free droplets'],\n",
    "                  palette=sns.color_palette()[-4:],\n",
    "                  markers=False,\n",
    "                  lw=2)\n",
    "\n",
    "ax.set_xscale('log')\n",
    "ax.set_yscale('log')\n",
    "ax.set_xlabel('sorted droplets');\n",
    "ax.legend(loc='lower left', ncol=1, title=None, frameon=False)\n",
    "ax.set_title(f'kneeplot: 20k_hgmm')\n",
    "\n",
    "sns.set_palette(\"muted\")\n",
    "sns.set_style(\"ticks\")\n",
    "sns.despine(offset=10, trim=False);"
   ]
  },
  {
   "cell_type": "markdown",
   "id": "6263f28d-aa21-4ed5-aab8-4c64942b3cec",
   "metadata": {},
   "source": [
    "### Average cell-free droplets\n",
    "\n",
    "We calculated ambient profile from the subpopulation of 'cell-free droplets'"
   ]
  },
  {
   "cell_type": "code",
   "execution_count": 10,
   "id": "c5e0d9ba-def0-418f-ab0b-e090889ec0a0",
   "metadata": {},
   "outputs": [
    {
     "data": {
      "text/html": [
       "<div>\n",
       "<style scoped>\n",
       "    .dataframe tbody tr th:only-of-type {\n",
       "        vertical-align: middle;\n",
       "    }\n",
       "\n",
       "    .dataframe tbody tr th {\n",
       "        vertical-align: top;\n",
       "    }\n",
       "\n",
       "    .dataframe thead th {\n",
       "        text-align: right;\n",
       "    }\n",
       "</style>\n",
       "<table border=\"1\" class=\"dataframe\">\n",
       "  <thead>\n",
       "    <tr style=\"text-align: right;\">\n",
       "      <th></th>\n",
       "      <th>ambient profile</th>\n",
       "    </tr>\n",
       "  </thead>\n",
       "  <tbody>\n",
       "    <tr>\n",
       "      <th>GRCh38_AL627309.5</th>\n",
       "      <td>0.000006</td>\n",
       "    </tr>\n",
       "    <tr>\n",
       "      <th>GRCh38_LINC01128</th>\n",
       "      <td>0.000086</td>\n",
       "    </tr>\n",
       "    <tr>\n",
       "      <th>GRCh38_LINC00115</th>\n",
       "      <td>0.000015</td>\n",
       "    </tr>\n",
       "    <tr>\n",
       "      <th>GRCh38_FAM41C</th>\n",
       "      <td>0.000017</td>\n",
       "    </tr>\n",
       "    <tr>\n",
       "      <th>GRCh38_AL645608.2</th>\n",
       "      <td>0.000015</td>\n",
       "    </tr>\n",
       "  </tbody>\n",
       "</table>\n",
       "</div>"
      ],
      "text/plain": [
       "                   ambient profile\n",
       "GRCh38_AL627309.5         0.000006\n",
       "GRCh38_LINC01128          0.000086\n",
       "GRCh38_LINC00115          0.000015\n",
       "GRCh38_FAM41C             0.000017\n",
       "GRCh38_AL645608.2         0.000015"
      ]
     },
     "execution_count": 10,
     "metadata": {},
     "output_type": "execute_result"
    }
   ],
   "source": [
    "cell_free = hgmm_20k_raw[hgmm_20k_raw.obs_names.isin(all_droplets[all_droplets['droplets']=='cell-free droplets'].index)]\n",
    "\n",
    "cell_free = cell_free[:, hgmm_20k.var_names]\n",
    "\n",
    "# average and normalize the transcript in cell-free droplets.\n",
    "ambient_profile = pd.DataFrame((cell_free.X.sum(axis=0)/cell_free.X.sum()).A1, index = hgmm_20k.var_names, columns = ['ambient profile'])\n",
    "\n",
    "ambient_profile.head()"
   ]
  },
  {
   "cell_type": "markdown",
   "id": "45d9f40e-a631-4b61-ae7f-fc1caffacb7f",
   "metadata": {},
   "source": [
    "## Training"
   ]
  },
  {
   "cell_type": "markdown",
   "id": "e5604fff-c681-4355-b09b-7aef05105d0b",
   "metadata": {},
   "source": [
    "<div class=\"alert alert-info\">\n",
    "\n",
    "Note\n",
    "\n",
    "In this particular case, we need to set a high sparsity parameter, because 1) transcripts are unfiltered, so that low coverage transcripts are present, 2) the mRNA matrix contains both human and mouse transcripts, which introduces extra sparsity. The data is highly sparse.\n",
    "\n",
    "In the case of data with only highly variable genes, a smaller sparsity is recommended.\n",
    "\n",
    "</div>"
   ]
  },
  {
   "cell_type": "code",
   "execution_count": 11,
   "id": "2de127d3-deca-4701-a8df-f0c9df5abae6",
   "metadata": {},
   "outputs": [
    {
     "data": {
      "text/html": [
       "<div>\n",
       "<style scoped>\n",
       "    .dataframe tbody tr th:only-of-type {\n",
       "        vertical-align: middle;\n",
       "    }\n",
       "\n",
       "    .dataframe tbody tr th {\n",
       "        vertical-align: top;\n",
       "    }\n",
       "\n",
       "    .dataframe thead th {\n",
       "        text-align: right;\n",
       "    }\n",
       "</style>\n",
       "<table border=\"1\" class=\"dataframe\">\n",
       "  <thead>\n",
       "    <tr style=\"text-align: right;\">\n",
       "      <th></th>\n",
       "      <th>ambient profile</th>\n",
       "    </tr>\n",
       "  </thead>\n",
       "  <tbody>\n",
       "    <tr>\n",
       "      <th>GRCh38_AL627309.5</th>\n",
       "      <td>0.000006</td>\n",
       "    </tr>\n",
       "    <tr>\n",
       "      <th>GRCh38_LINC01128</th>\n",
       "      <td>0.000086</td>\n",
       "    </tr>\n",
       "    <tr>\n",
       "      <th>GRCh38_LINC00115</th>\n",
       "      <td>0.000015</td>\n",
       "    </tr>\n",
       "    <tr>\n",
       "      <th>GRCh38_FAM41C</th>\n",
       "      <td>0.000017</td>\n",
       "    </tr>\n",
       "    <tr>\n",
       "      <th>GRCh38_AL645608.2</th>\n",
       "      <td>0.000015</td>\n",
       "    </tr>\n",
       "    <tr>\n",
       "      <th>...</th>\n",
       "      <td>...</td>\n",
       "    </tr>\n",
       "    <tr>\n",
       "      <th>mm10___AC133103.1</th>\n",
       "      <td>0.000008</td>\n",
       "    </tr>\n",
       "    <tr>\n",
       "      <th>mm10___AC168977.1</th>\n",
       "      <td>0.000010</td>\n",
       "    </tr>\n",
       "    <tr>\n",
       "      <th>mm10___CAAA01118383.1</th>\n",
       "      <td>0.000046</td>\n",
       "    </tr>\n",
       "    <tr>\n",
       "      <th>mm10___Spry3</th>\n",
       "      <td>0.000027</td>\n",
       "    </tr>\n",
       "    <tr>\n",
       "      <th>mm10___Tmlhe</th>\n",
       "      <td>0.000025</td>\n",
       "    </tr>\n",
       "  </tbody>\n",
       "</table>\n",
       "<p>16586 rows × 1 columns</p>\n",
       "</div>"
      ],
      "text/plain": [
       "                       ambient profile\n",
       "GRCh38_AL627309.5             0.000006\n",
       "GRCh38_LINC01128              0.000086\n",
       "GRCh38_LINC00115              0.000015\n",
       "GRCh38_FAM41C                 0.000017\n",
       "GRCh38_AL645608.2             0.000015\n",
       "...                                ...\n",
       "mm10___AC133103.1             0.000008\n",
       "mm10___AC168977.1             0.000010\n",
       "mm10___CAAA01118383.1         0.000046\n",
       "mm10___Spry3                  0.000027\n",
       "mm10___Tmlhe                  0.000025\n",
       "\n",
       "[16586 rows x 1 columns]"
      ]
     },
     "execution_count": 11,
     "metadata": {},
     "output_type": "execute_result"
    }
   ],
   "source": [
    "ambient_profile"
   ]
  },
  {
   "cell_type": "code",
   "execution_count": null,
   "id": "2220184c-bbdc-4c3c-84ab-39e45147c14c",
   "metadata": {},
   "outputs": [
    {
     "name": "stdout",
     "output_type": "stream",
     "text": [
      "..Running VAE using the following param set:\n",
      "......denoised count type:  mRNA\n",
      "......count model:  binomial\n",
      "......num_input_feature:  16586\n",
      "......NN_layer1:  150\n",
      "......NN_layer2:  100\n",
      "......latent_space:  15\n",
      "......dropout_prob:  0\n",
      "......expected data sparsity:  1\n",
      "......kld_weight:  1e-05\n",
      "......lr:  0.001\n",
      "......lr_step_size:  5\n",
      "......lr_gamma:  0.97\n",
      "===========================================\n",
      "  Training.....\n",
      "  0%|                                                                                                                  | 0/200 [00:00<?, ?it/s]"
     ]
    }
   ],
   "source": [
    "hgmm_20k_scar = model(raw_count = raw_counts,\n",
    "                      ambient_profile = ambient_profile, # In the case of default None, the ambient_profile will be calculated by averaging pooled cells\n",
    "                      ambient_profile2 = ambient_profile.loc[::-1].values,\n",
    "                      feature_type='mRNA',\n",
    "                      sparsity=1,\n",
    "                     )\n",
    "\n",
    "hgmm_20k_scar.train(epochs=200,\n",
    "                    batch_size=64,\n",
    "                    verbose=True\n",
    "                   )\n",
    "\n",
    "# After training, we can infer the native true signal\n",
    "hgmm_20k_scar.inference()  # by defaut, batch_size = None, set a batch_size if getting a GPU memory issue"
   ]
  },
  {
   "cell_type": "markdown",
   "id": "c6aa1dcc-da92-48ff-949c-3aa8249b867a",
   "metadata": {},
   "source": [
    "The denoised counts are saved in `hgmm_20k_scar.native_counts` and can be used for downstream analysis."
   ]
  },
  {
   "cell_type": "code",
   "execution_count": 13,
   "id": "6b814ba1-b7fd-4415-a4b0-6a674f1d81e2",
   "metadata": {},
   "outputs": [
    {
     "data": {
      "text/html": [
       "<div>\n",
       "<style scoped>\n",
       "    .dataframe tbody tr th:only-of-type {\n",
       "        vertical-align: middle;\n",
       "    }\n",
       "\n",
       "    .dataframe tbody tr th {\n",
       "        vertical-align: top;\n",
       "    }\n",
       "\n",
       "    .dataframe thead th {\n",
       "        text-align: right;\n",
       "    }\n",
       "</style>\n",
       "<table border=\"1\" class=\"dataframe\">\n",
       "  <thead>\n",
       "    <tr style=\"text-align: right;\">\n",
       "      <th></th>\n",
       "      <th>GRCh38_AL627309.5</th>\n",
       "      <th>GRCh38_LINC01128</th>\n",
       "      <th>GRCh38_LINC00115</th>\n",
       "      <th>GRCh38_FAM41C</th>\n",
       "      <th>GRCh38_AL645608.2</th>\n",
       "      <th>GRCh38_LINC02593</th>\n",
       "      <th>GRCh38_SAMD11</th>\n",
       "      <th>GRCh38_KLHL17</th>\n",
       "      <th>GRCh38_AL645608.7</th>\n",
       "      <th>GRCh38_ISG15</th>\n",
       "      <th>...</th>\n",
       "      <th>mm10___Gm21887</th>\n",
       "      <th>mm10___Kdm5d</th>\n",
       "      <th>mm10___Eif2s3y</th>\n",
       "      <th>mm10___Uty</th>\n",
       "      <th>mm10___Ddx3y</th>\n",
       "      <th>mm10___AC133103.1</th>\n",
       "      <th>mm10___AC168977.1</th>\n",
       "      <th>mm10___CAAA01118383.1</th>\n",
       "      <th>mm10___Spry3</th>\n",
       "      <th>mm10___Tmlhe</th>\n",
       "    </tr>\n",
       "  </thead>\n",
       "  <tbody>\n",
       "    <tr>\n",
       "      <th>AAACCCAAGAGCCGAT-1</th>\n",
       "      <td>0.017586</td>\n",
       "      <td>0.305345</td>\n",
       "      <td>0.009403</td>\n",
       "      <td>0.079865</td>\n",
       "      <td>0.022414</td>\n",
       "      <td>0.129903</td>\n",
       "      <td>0.530398</td>\n",
       "      <td>0.092016</td>\n",
       "      <td>0.130670</td>\n",
       "      <td>0.410815</td>\n",
       "      <td>...</td>\n",
       "      <td>0.000000</td>\n",
       "      <td>0.000000</td>\n",
       "      <td>0.000000</td>\n",
       "      <td>0.000000</td>\n",
       "      <td>0.000000</td>\n",
       "      <td>0.000000</td>\n",
       "      <td>0.000000</td>\n",
       "      <td>0.000000</td>\n",
       "      <td>0.000000</td>\n",
       "      <td>0.000000</td>\n",
       "    </tr>\n",
       "    <tr>\n",
       "      <th>AAACCCAAGCGTTCCG-1</th>\n",
       "      <td>0.028123</td>\n",
       "      <td>0.300129</td>\n",
       "      <td>0.046148</td>\n",
       "      <td>0.022735</td>\n",
       "      <td>0.060199</td>\n",
       "      <td>0.121265</td>\n",
       "      <td>0.652807</td>\n",
       "      <td>0.118856</td>\n",
       "      <td>0.231104</td>\n",
       "      <td>0.416823</td>\n",
       "      <td>...</td>\n",
       "      <td>0.000000</td>\n",
       "      <td>0.000000</td>\n",
       "      <td>0.000000</td>\n",
       "      <td>0.000000</td>\n",
       "      <td>0.000000</td>\n",
       "      <td>0.000000</td>\n",
       "      <td>0.000000</td>\n",
       "      <td>0.000000</td>\n",
       "      <td>0.000000</td>\n",
       "      <td>0.000000</td>\n",
       "    </tr>\n",
       "    <tr>\n",
       "      <th>AAACCCAAGTGCGTCC-1</th>\n",
       "      <td>0.000000</td>\n",
       "      <td>0.000000</td>\n",
       "      <td>0.000000</td>\n",
       "      <td>0.000000</td>\n",
       "      <td>0.000000</td>\n",
       "      <td>0.000000</td>\n",
       "      <td>0.000000</td>\n",
       "      <td>0.000000</td>\n",
       "      <td>0.000000</td>\n",
       "      <td>0.000000</td>\n",
       "      <td>...</td>\n",
       "      <td>0.073836</td>\n",
       "      <td>0.171912</td>\n",
       "      <td>0.771821</td>\n",
       "      <td>0.259909</td>\n",
       "      <td>1.721138</td>\n",
       "      <td>0.000000</td>\n",
       "      <td>0.000000</td>\n",
       "      <td>0.217245</td>\n",
       "      <td>0.095209</td>\n",
       "      <td>0.059166</td>\n",
       "    </tr>\n",
       "    <tr>\n",
       "      <th>AAACCCACAAACTGCT-1</th>\n",
       "      <td>0.000000</td>\n",
       "      <td>0.000000</td>\n",
       "      <td>0.000000</td>\n",
       "      <td>0.000000</td>\n",
       "      <td>0.000000</td>\n",
       "      <td>0.000000</td>\n",
       "      <td>0.000000</td>\n",
       "      <td>0.000000</td>\n",
       "      <td>0.000000</td>\n",
       "      <td>0.000000</td>\n",
       "      <td>...</td>\n",
       "      <td>0.001662</td>\n",
       "      <td>0.000000</td>\n",
       "      <td>0.000000</td>\n",
       "      <td>0.000000</td>\n",
       "      <td>0.000000</td>\n",
       "      <td>0.082865</td>\n",
       "      <td>0.060749</td>\n",
       "      <td>0.141865</td>\n",
       "      <td>0.101782</td>\n",
       "      <td>0.065129</td>\n",
       "    </tr>\n",
       "    <tr>\n",
       "      <th>AAACCCACAATACCTG-1</th>\n",
       "      <td>0.071757</td>\n",
       "      <td>0.509049</td>\n",
       "      <td>0.095091</td>\n",
       "      <td>0.060625</td>\n",
       "      <td>0.136401</td>\n",
       "      <td>0.215216</td>\n",
       "      <td>0.686515</td>\n",
       "      <td>0.177997</td>\n",
       "      <td>0.508158</td>\n",
       "      <td>0.778697</td>\n",
       "      <td>...</td>\n",
       "      <td>0.000000</td>\n",
       "      <td>0.000000</td>\n",
       "      <td>0.000000</td>\n",
       "      <td>0.000000</td>\n",
       "      <td>0.000000</td>\n",
       "      <td>0.000000</td>\n",
       "      <td>0.000000</td>\n",
       "      <td>0.000000</td>\n",
       "      <td>0.000000</td>\n",
       "      <td>0.000000</td>\n",
       "    </tr>\n",
       "  </tbody>\n",
       "</table>\n",
       "<p>5 rows × 16586 columns</p>\n",
       "</div>"
      ],
      "text/plain": [
       "                    GRCh38_AL627309.5  GRCh38_LINC01128  GRCh38_LINC00115  \\\n",
       "AAACCCAAGAGCCGAT-1           0.017586          0.305345          0.009403   \n",
       "AAACCCAAGCGTTCCG-1           0.028123          0.300129          0.046148   \n",
       "AAACCCAAGTGCGTCC-1           0.000000          0.000000          0.000000   \n",
       "AAACCCACAAACTGCT-1           0.000000          0.000000          0.000000   \n",
       "AAACCCACAATACCTG-1           0.071757          0.509049          0.095091   \n",
       "\n",
       "                    GRCh38_FAM41C  GRCh38_AL645608.2  GRCh38_LINC02593  \\\n",
       "AAACCCAAGAGCCGAT-1       0.079865           0.022414          0.129903   \n",
       "AAACCCAAGCGTTCCG-1       0.022735           0.060199          0.121265   \n",
       "AAACCCAAGTGCGTCC-1       0.000000           0.000000          0.000000   \n",
       "AAACCCACAAACTGCT-1       0.000000           0.000000          0.000000   \n",
       "AAACCCACAATACCTG-1       0.060625           0.136401          0.215216   \n",
       "\n",
       "                    GRCh38_SAMD11  GRCh38_KLHL17  GRCh38_AL645608.7  \\\n",
       "AAACCCAAGAGCCGAT-1       0.530398       0.092016           0.130670   \n",
       "AAACCCAAGCGTTCCG-1       0.652807       0.118856           0.231104   \n",
       "AAACCCAAGTGCGTCC-1       0.000000       0.000000           0.000000   \n",
       "AAACCCACAAACTGCT-1       0.000000       0.000000           0.000000   \n",
       "AAACCCACAATACCTG-1       0.686515       0.177997           0.508158   \n",
       "\n",
       "                    GRCh38_ISG15  ...  mm10___Gm21887  mm10___Kdm5d  \\\n",
       "AAACCCAAGAGCCGAT-1      0.410815  ...        0.000000      0.000000   \n",
       "AAACCCAAGCGTTCCG-1      0.416823  ...        0.000000      0.000000   \n",
       "AAACCCAAGTGCGTCC-1      0.000000  ...        0.073836      0.171912   \n",
       "AAACCCACAAACTGCT-1      0.000000  ...        0.001662      0.000000   \n",
       "AAACCCACAATACCTG-1      0.778697  ...        0.000000      0.000000   \n",
       "\n",
       "                    mm10___Eif2s3y  mm10___Uty  mm10___Ddx3y  \\\n",
       "AAACCCAAGAGCCGAT-1        0.000000    0.000000      0.000000   \n",
       "AAACCCAAGCGTTCCG-1        0.000000    0.000000      0.000000   \n",
       "AAACCCAAGTGCGTCC-1        0.771821    0.259909      1.721138   \n",
       "AAACCCACAAACTGCT-1        0.000000    0.000000      0.000000   \n",
       "AAACCCACAATACCTG-1        0.000000    0.000000      0.000000   \n",
       "\n",
       "                    mm10___AC133103.1  mm10___AC168977.1  \\\n",
       "AAACCCAAGAGCCGAT-1           0.000000           0.000000   \n",
       "AAACCCAAGCGTTCCG-1           0.000000           0.000000   \n",
       "AAACCCAAGTGCGTCC-1           0.000000           0.000000   \n",
       "AAACCCACAAACTGCT-1           0.082865           0.060749   \n",
       "AAACCCACAATACCTG-1           0.000000           0.000000   \n",
       "\n",
       "                    mm10___CAAA01118383.1  mm10___Spry3  mm10___Tmlhe  \n",
       "AAACCCAAGAGCCGAT-1               0.000000      0.000000      0.000000  \n",
       "AAACCCAAGCGTTCCG-1               0.000000      0.000000      0.000000  \n",
       "AAACCCAAGTGCGTCC-1               0.217245      0.095209      0.059166  \n",
       "AAACCCACAAACTGCT-1               0.141865      0.101782      0.065129  \n",
       "AAACCCACAATACCTG-1               0.000000      0.000000      0.000000  \n",
       "\n",
       "[5 rows x 16586 columns]"
      ]
     },
     "execution_count": 13,
     "metadata": {},
     "output_type": "execute_result"
    }
   ],
   "source": [
    "denoised_count = pd.DataFrame(hgmm_20k_scar.native_counts, index=raw_counts.index, columns=raw_counts.columns)\n",
    "\n",
    "denoised_count.head()"
   ]
  },
  {
   "cell_type": "markdown",
   "id": "7119b825-29a7-4db9-aae2-1d8953d9283a",
   "metadata": {},
   "source": [
    "## Visualization"
   ]
  },
  {
   "cell_type": "markdown",
   "id": "02fa0747-61e6-4394-b648-5d9f2ce712ac",
   "metadata": {},
   "source": [
    "Calculate number of human and mouse transcripts before denoising"
   ]
  },
  {
   "cell_type": "code",
   "execution_count": 14,
   "id": "5e9dcdee-d4d3-4393-9694-546c2cc70f2d",
   "metadata": {},
   "outputs": [],
   "source": [
    "raw_counts_df = hgmm_20k.obs[['human gene counts', 'mouse gene counts']].astype(int)\n",
    "raw_counts_df['log2(human gene counts+1)'] = np.log2(raw_counts_df['human gene counts']+1)\n",
    "raw_counts_df['log2(mouse gene counts+1)'] = np.log2(raw_counts_df['mouse gene counts']+1)\n",
    "raw_counts_df = raw_counts_df.join(hgmm_20k.obs[['species']])"
   ]
  },
  {
   "cell_type": "markdown",
   "id": "e15b4e55-1a3e-48ae-b997-9aee09114bfa",
   "metadata": {},
   "source": [
    "visualization of raw counts"
   ]
  },
  {
   "cell_type": "code",
   "execution_count": 15,
   "id": "ec47e8e5-74ce-4817-b945-fb99889492ee",
   "metadata": {},
   "outputs": [
    {
     "data": {
      "text/plain": [
       "<Figure size 600x600 with 0 Axes>"
      ]
     },
     "metadata": {},
     "output_type": "display_data"
    },
    {
     "data": {
      "image/png": "[encoded data removed]",
      "text/plain": [
       "<Figure size 360x360 with 3 Axes>"
      ]
     },
     "metadata": {},
     "output_type": "display_data"
    }
   ],
   "source": [
    "plt.figure(figsize=(4, 4), dpi=150)\n",
    "\n",
    "ax = sns.jointplot(data=raw_counts_df,\n",
    "                   x=\"log2(human gene counts+1)\",\n",
    "                   y=\"log2(mouse gene counts+1)\",\n",
    "                   hue='species',\n",
    "                   hue_order=['HEK293T', 'mixture', 'NIH3T3'],\n",
    "                   s=8,\n",
    "                   alpha=0.5,\n",
    "                   legend=True,\n",
    "                   height=5,\n",
    "                   marginal_kws={'common_norm':False});\n",
    "ax.ax_joint.text(0, 0, 'raw counts')\n",
    "ax.ax_joint.set_xlim(-1, 14)\n",
    "ax.ax_joint.set_ylim(-1, 14)\n",
    "ax.ax_joint.legend(bbox_to_anchor=(1.55, 0.6),borderaxespad=0);"
   ]
  },
  {
   "cell_type": "markdown",
   "id": "da57fde9-ef50-4962-95e7-1f89cff342c9",
   "metadata": {},
   "source": [
    "Calculate number of human and mouse transcripts after denoising"
   ]
  },
  {
   "cell_type": "code",
   "execution_count": 16,
   "id": "c74c29a0-5df9-4659-a336-2dbd8635931b",
   "metadata": {},
   "outputs": [],
   "source": [
    "denoised_count['human gene counts'] = denoised_count.loc[:,denoised_count.columns.str.startswith('GRCh38_')].sum(axis=1)\n",
    "denoised_count['mouse gene counts'] = denoised_count.loc[:,denoised_count.columns.str.startswith('mm10_')].sum(axis=1)\n",
    "denoised_count['species'] = raw_counts_df['species']\n",
    "denoised_count['log2(human gene counts+1)'] = np.log2(denoised_count['human gene counts']+1)\n",
    "denoised_count['log2(mouse gene counts+1)'] = np.log2(denoised_count['mouse gene counts']+1)"
   ]
  },
  {
   "cell_type": "markdown",
   "id": "5d00bf1b-6a8e-4a94-92ae-f916fd142392",
   "metadata": {},
   "source": [
    "visualization of denoised counts"
   ]
  },
  {
   "cell_type": "code",
   "execution_count": 17,
   "id": "86d1585e-9d17-4bb4-8c6c-597ecc0a9714",
   "metadata": {
    "tags": [
     "nbsphinx-gallery",
     "nbsphinx-thumbnail"
    ]
   },
   "outputs": [
    {
     "data": {
      "text/plain": [
       "<Figure size 600x600 with 0 Axes>"
      ]
     },
     "metadata": {},
     "output_type": "display_data"
    },
    {
     "data": {
      "image/png": "[encoded data removed]",
      "text/plain": [
       "<Figure size 360x360 with 3 Axes>"
      ]
     },
     "metadata": {},
     "output_type": "display_data"
    }
   ],
   "source": [
    "plt.figure(figsize=(4, 4), dpi=150);\n",
    "\n",
    "ax = sns.jointplot(data=denoised_count,\n",
    "                   x=\"log2(human gene counts+1)\",\n",
    "                   y=\"log2(mouse gene counts+1)\",\n",
    "                   hue='species',\n",
    "                   hue_order=['HEK293T', 'mixture', 'NIH3T3'],\n",
    "                   s=8,\n",
    "                   alpha=0.5,\n",
    "                   legend=True,\n",
    "                   height=5,\n",
    "                   marginal_kws={'common_norm':False});\n",
    "ax.ax_joint.text(0, 0, 'denoised counts')\n",
    "ax.ax_joint.set_xlim(-1, 14)\n",
    "ax.ax_joint.set_ylim(-1, 14)\n",
    "ax.ax_joint.legend(bbox_to_anchor=(1.55, 0.6),borderaxespad=0);"
   ]
  }
 ],
 "metadata": {
  "kernelspec": {
   "display_name": "scar",
   "language": "python",
   "name": "scar"
  },
  "language_info": {
   "codemirror_mode": {
    "name": "ipython",
    "version": 3
   },
   "file_extension": ".py",
   "mimetype": "text/x-python",
   "name": "python",
   "nbconvert_exporter": "python",
   "pygments_lexer": "ipython3",
   "version": "3.10.4"
  }
 },
 "nbformat": 4,
 "nbformat_minor": 5
}
